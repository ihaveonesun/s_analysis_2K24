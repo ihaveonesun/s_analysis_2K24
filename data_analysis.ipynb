{
 "cells": [
  {
   "cell_type": "code",
   "execution_count": 1,
   "id": "16af84b4",
   "metadata": {},
   "outputs": [],
   "source": [
    "import pandas as pd\n",
    "import matplotlib.pyplot as plt"
   ]
  },
  {
   "cell_type": "code",
   "execution_count": 2,
   "id": "e406d2a7",
   "metadata": {},
   "outputs": [],
   "source": [
    "dados = pd.read_csv('diagnostico-tic-prefeitura-sp-2020.csv', sep=';', encoding='latin-1')"
   ]
  },
  {
   "cell_type": "code",
   "execution_count": 3,
   "id": "5e87e3ad",
   "metadata": {},
   "outputs": [
    {
     "name": "stdout",
     "output_type": "stream",
     "text": [
      "<class 'pandas.core.frame.DataFrame'>\n",
      "RangeIndex: 71 entries, 0 to 70\n",
      "Columns: 345 entries, id to interviewtime\n",
      "dtypes: float64(46), int64(85), object(214)\n",
      "memory usage: 191.5+ KB\n"
     ]
    }
   ],
   "source": [
    "dados.info(show_counts=True)"
   ]
  },
  {
   "cell_type": "code",
   "execution_count": 4,
   "id": "3bcb02ac",
   "metadata": {},
   "outputs": [
    {
     "name": "stdout",
     "output_type": "stream",
     "text": [
      "id\n",
      "submitdate\n",
      "startdate\n",
      "datestamp\n",
      "Q06\n",
      "Q07\n",
      "Q08\n",
      "Q09\n",
      "Q010\n",
      "Q010[other]\n",
      "Q011\n",
      "Q011[other]\n",
      "Q12\n",
      "Q101\n",
      "Q102\n",
      "Q103\n",
      "Q104\n",
      "Q108\n",
      "Q109\n",
      "Q105\n",
      "Q106\n",
      "Q107\n",
      "Q201\n",
      "Q202\n",
      "Q203[SQ001]\n",
      "Q203[SQ002]\n",
      "Q203[SQ003]\n",
      "Q203[SQ004]\n",
      "Q203[SQ005]\n",
      "Q203[SQ006]\n",
      "Q203[other]\n",
      "Q216\n",
      "Q217\n",
      "Q204\n",
      "Q205[SQ002]\n",
      "Q205[SQ003]\n",
      "Q205[SQ004]\n",
      "Q205[SQ005]\n",
      "Q205[SQ006]\n",
      "Q205[SQ007]\n",
      "Q205[SQ008]\n",
      "Q205[SQ009]\n",
      "Q205[SQ010]\n",
      "Q205[SQ011]\n",
      "Q205[SQ012]\n",
      "Q205[SQ013]\n",
      "Q205[SQ014]\n",
      "Q205[SQ015]\n",
      "Q214[SQ001]\n",
      "Q214[SQ002]\n",
      "Q214[SQ003]\n",
      "Q214[SQ004]\n",
      "Q214[SQ005]\n",
      "Q211[SQ001]\n",
      "Q211[SQ002]\n",
      "Q211[SQ003]\n",
      "Q212\n",
      "Q206\n",
      "Q207\n",
      "Q208[SQ001_SQ001]\n",
      "Q208[SQ001_SQ002]\n",
      "Q208[SQ002_SQ001]\n",
      "Q208[SQ002_SQ002]\n",
      "Q208[SQ003_SQ001]\n",
      "Q208[SQ003_SQ002]\n",
      "Q208[SQ004_SQ001]\n",
      "Q208[SQ004_SQ002]\n",
      "Q208[SQ005_SQ001]\n",
      "Q208[SQ005_SQ002]\n",
      "Q209\n",
      "Q213\n",
      "Q215\n",
      "Q210[SQ002]\n",
      "Q210[SQ003]\n",
      "Q210[SQ004]\n",
      "Q210[SQ006]\n",
      "Q210[SQ007]\n",
      "Q210[SQ009]\n",
      "Q210[SQ010]\n",
      "Q210[SQ011]\n",
      "Q210[SQ012]\n",
      "Q210[SQ013]\n",
      "Q210[SQ014]\n",
      "Q301\n",
      "Q302\n",
      "Q303\n",
      "Q304\n",
      "Q305\n",
      "Q306\n",
      "Q401\n",
      "Q402\n",
      "Q405\n",
      "Q403\n",
      "Q404\n",
      "Q406\n",
      "Q501\n",
      "Q504\n",
      "Q505\n",
      "Q502[1]\n",
      "Q502[2]\n",
      "Q502[3]\n",
      "Q502[4]\n",
      "Q502[5]\n",
      "Q502[6]\n",
      "Q502[7]\n",
      "Q502[8]\n",
      "Q502[9]\n",
      "Q502[10]\n",
      "Q502[11]\n",
      "Q502[12]\n",
      "Q503[SQ001]\n",
      "Q503[SQ002]\n",
      "Q503[SQ003]\n",
      "Q503[SQ004]\n",
      "Q503[SQ005]\n",
      "Q503[SQ006]\n",
      "Q601\n",
      "Q602\n",
      "Q603\n",
      "Q604[SQ001]\n",
      "Q604[SQ002]\n",
      "Q604[SQ003]\n",
      "Q604[SQ004]\n",
      "Q604[SQ005]\n",
      "Q604[SQ006]\n",
      "Q604[SQ007]\n",
      "Q703\n",
      "Q704\n",
      "Q705[SQ001]\n",
      "Q705[SQ002]\n",
      "Q705[SQ003]\n",
      "Q705[SQ004]\n",
      "Q705[SQ005]\n",
      "Q705[SQ006]\n",
      "Q705[SQ007]\n",
      "Q706\n",
      "Q707\n",
      "Q708\n",
      "Q709\n",
      "Q710\n",
      "Q711\n",
      "Q712\n",
      "Q713\n",
      "Q714\n",
      "Q715\n",
      "Q716[SQ001]\n",
      "Q716[SQ002]\n",
      "Q716[SQ003]\n",
      "Q716[SQ004]\n",
      "Q727\n",
      "Q728\n",
      "Q717\n",
      "Q718\n",
      "Q722\n",
      "Q723\n",
      "Q724\n",
      "Q725\n",
      "Q726\n",
      "Q721\n",
      "Q720\n",
      "Q802[SQ001]\n",
      "Q802[SQ002]\n",
      "Q803\n",
      "Q801[SQ001]\n",
      "Q801[SQ002]\n",
      "Q801[SQ003]\n",
      "Q801[SQ004]\n",
      "Q801[other]\n",
      "Q804[SQ001]\n",
      "Q804[SQ002]\n",
      "Q804[SQ003]\n",
      "Q804[SQ004]\n",
      "Q804[other]\n",
      "Q805\n",
      "Q816[SQ001]\n",
      "Q816[SQ002]\n",
      "Q816[SQ003]\n",
      "Q813\n",
      "Q814\n",
      "Q815\n",
      "Q806[SQ001]\n",
      "Q806[SQ002]\n",
      "Q806[SQ003]\n",
      "Q806[SQ004]\n",
      "Q806[SQ005]\n",
      "Q806[SQ006]\n",
      "Q806[SQ007]\n",
      "Q807[SQ001_SQ001]\n",
      "Q807[SQ001_SQ002]\n",
      "Q807[SQ001_SQ003]\n",
      "Q807[SQ001_SQ004]\n",
      "Q807[SQ001_SQ005]\n",
      "Q807[SQ001_SQ006]\n",
      "Q807[SQ001_SQ007]\n",
      "Q807[SQ002_SQ001]\n",
      "Q807[SQ002_SQ002]\n",
      "Q807[SQ002_SQ003]\n",
      "Q807[SQ002_SQ004]\n",
      "Q807[SQ002_SQ005]\n",
      "Q807[SQ002_SQ006]\n",
      "Q807[SQ002_SQ007]\n",
      "Q808\n",
      "Q809\n",
      "Q810\n",
      "Q811\n",
      "Q812[SQ001]\n",
      "Q812[SQ002]\n",
      "Q812[SQ003]\n",
      "Q812[SQ004]\n",
      "Q812[SQ006]\n",
      "Q812[SQ007]\n",
      "Q812[SQ008]\n",
      "Q812[SQ009]\n",
      "Q812[SQ005]\n",
      "Q901[SQ001]\n",
      "Q901[SQ002]\n",
      "Q901[other]\n",
      "Q902[SQ001]\n",
      "Q902[SQ002]\n",
      "Q902[SQ003]\n",
      "Q903\n",
      "Q904\n",
      "Q905\n",
      "Q907\n",
      "Q908\n",
      "Q1001[SQ001_SQ008]\n",
      "Q1001[SQ001_SQ009]\n",
      "Q1001[SQ003_SQ008]\n",
      "Q1001[SQ003_SQ009]\n",
      "Q1001[SQ005_SQ008]\n",
      "Q1001[SQ005_SQ009]\n",
      "Q1001[SQ007_SQ008]\n",
      "Q1001[SQ007_SQ009]\n",
      "Q1001[SQ009_SQ008]\n",
      "Q1001[SQ009_SQ009]\n",
      "Q1001[SQ011_SQ008]\n",
      "Q1001[SQ011_SQ009]\n",
      "Q1001[SQ013_SQ008]\n",
      "Q1001[SQ013_SQ009]\n",
      "Q1001[SQ015_SQ008]\n",
      "Q1001[SQ015_SQ009]\n",
      "Q1001[SQ016_SQ008]\n",
      "Q1001[SQ016_SQ009]\n",
      "Q1002[SQ001]\n",
      "Q1002[SQ002]\n",
      "Q1002[SQ003]\n",
      "Q1002[SQ004]\n",
      "Q1002[SQ005]\n",
      "Q1002[SQ006]\n",
      "Q1002[SQ007]\n",
      "Q1002[SQ008]\n",
      "Q1002[SQ009]\n",
      "Q1027[SQ001]\n",
      "Q1027[SQ002]\n",
      "Q1027[SQ003]\n",
      "Q1027[SQ004]\n",
      "Q1003[SQ001]\n",
      "Q1003[SQ002]\n",
      "Q1003[SQ003]\n",
      "Q1003[SQ004]\n",
      "Q1003[SQ005]\n",
      "Q1003[SQ006]\n",
      "Q1003[SQ007]\n",
      "Q1003[SQ008]\n",
      "Q1004[SQ001]\n",
      "Q1004[SQ002]\n",
      "Q1004[SQ003]\n",
      "Q1004[SQ004]\n",
      "Q1004[SQ005]\n",
      "Q1004[SQ006]\n",
      "Q1004[SQ007]\n",
      "Q1005\n",
      "Q1006\n",
      "Q1007\n",
      "Q1008[SQ001]\n",
      "Q1008[SQ002]\n",
      "Q1008[SQ003]\n",
      "Q1008[SQ004]\n",
      "Q1008[SQ005]\n",
      "Q1008[SQ006]\n",
      "Q1008[SQ007]\n",
      "Q1009[SQ001]\n",
      "Q1009[SQ002]\n",
      "Q1009[SQ003]\n",
      "Q1009[SQ004]\n",
      "Q1010\n",
      "Q1011\n",
      "Q1012\n",
      "Q1012[other]\n",
      "Q1013\n",
      "Q1028\n",
      "Q1017\n",
      "Q1020\n",
      "Q1021\n",
      "Q1029\n",
      "Q1030\n",
      "Q1025\n",
      "Q1026\n",
      "Q1031[SQ001]\n",
      "Q1031[SQ002]\n",
      "Q1031[SQ003]\n",
      "Q1031[SQ004]\n",
      "Q1014[SQ001]\n",
      "Q1014[SQ002]\n",
      "Q1014[SQ003]\n",
      "Q1014[SQ004]\n",
      "Q1014[SQ005]\n",
      "Q1014[SQ006]\n",
      "Q1014[SQ007]\n",
      "Q1015[SQ001]\n",
      "Q1015[SQ002]\n",
      "Q1015[SQ003]\n",
      "Q1015[SQ004]\n",
      "Q1015[SQ005]\n",
      "Q1015[SQ006]\n",
      "Q1015[SQ007]\n",
      "Q1016\n",
      "Q1018\n",
      "Q1022[SQ001]\n",
      "Q1022[SQ002]\n",
      "Q1022[SQ003]\n",
      "Q1022[SQ004]\n",
      "Q1022[SQ005]\n",
      "Q1022[other]\n",
      "Q1023\n",
      "Q1023[other]\n",
      "Q1024\n",
      "Q1024[other]\n",
      "Q1101\n",
      "Q1102[SQ001]\n",
      "Q1102[SQ002]\n",
      "Q1102[SQ003]\n",
      "Q1102[SQ004]\n",
      "Q1102[SQ005]\n",
      "Q1102[SQ006]\n",
      "Q1102[SQ007]\n",
      "Q1102[SQ008]\n",
      "Q1102[SQ009]\n",
      "Q1102[SQ010]\n",
      "Q1102[SQ011]\n",
      "Q1102[SQ012]\n",
      "Q1102[other]\n",
      "Q1103\n",
      "Q1201\n",
      "interviewtime\n"
     ]
    }
   ],
   "source": [
    "colunas = dados.columns\n",
    "for coluna in colunas:\n",
    "    print(coluna)"
   ]
  },
  {
   "cell_type": "markdown",
   "id": "4bc7a5a0",
   "metadata": {},
   "source": [
    "#### <font color=green> Obs: visualizações serão implementadas posteriormente</font>"
   ]
  },
  {
   "cell_type": "markdown",
   "id": "26ae3015",
   "metadata": {},
   "source": [
    "### 1. Separado por categorias, segue a quantidade de órgãos que responderam à pesquisa"
   ]
  },
  {
   "cell_type": "code",
   "execution_count": 5,
   "id": "b8005f5a",
   "metadata": {},
   "outputs": [
    {
     "name": "stdout",
     "output_type": "stream",
     "text": [
      "Q06\n",
      "Subprefeitura                     32\n",
      "Secretaria Municipal              24\n",
      "Autarquia, Fundação ou Empresa    15\n",
      "Name: count, dtype: int64\n"
     ]
    }
   ],
   "source": [
    "quantidades = dados['Q06'].value_counts()\n",
    "print(quantidades)"
   ]
  },
  {
   "cell_type": "markdown",
   "id": "25921cfb",
   "metadata": {},
   "source": [
    "### 2. Pessoas que trabalharam, de forma dedicada à TI, na Prefeitura de São Paulo"
   ]
  },
  {
   "cell_type": "code",
   "execution_count": 6,
   "id": "d4fa2c8a",
   "metadata": {},
   "outputs": [
    {
     "data": {
      "text/plain": [
       "762"
      ]
     },
     "execution_count": 6,
     "metadata": {},
     "output_type": "execute_result"
    }
   ],
   "source": [
    "dados['Q201'].sum()"
   ]
  },
  {
   "cell_type": "markdown",
   "id": "f4fe4854",
   "metadata": {},
   "source": [
    "### 3. Proporção de pessoas que trabalharam de forma dedicada à TI na Prefeitura de São Paulo, por categoria."
   ]
  },
  {
   "cell_type": "code",
   "execution_count": 7,
   "id": "7d11021e",
   "metadata": {},
   "outputs": [
    {
     "data": {
      "text/html": [
       "<div>\n",
       "<style scoped>\n",
       "    .dataframe tbody tr th:only-of-type {\n",
       "        vertical-align: middle;\n",
       "    }\n",
       "\n",
       "    .dataframe tbody tr th {\n",
       "        vertical-align: top;\n",
       "    }\n",
       "\n",
       "    .dataframe thead th {\n",
       "        text-align: right;\n",
       "    }\n",
       "</style>\n",
       "<table border=\"1\" class=\"dataframe\">\n",
       "  <thead>\n",
       "    <tr style=\"text-align: right;\">\n",
       "      <th></th>\n",
       "      <th>Q201</th>\n",
       "    </tr>\n",
       "    <tr>\n",
       "      <th>Q06</th>\n",
       "      <th></th>\n",
       "    </tr>\n",
       "  </thead>\n",
       "  <tbody>\n",
       "    <tr>\n",
       "      <th>Autarquia, Fundação ou Empresa</th>\n",
       "      <td>285</td>\n",
       "    </tr>\n",
       "    <tr>\n",
       "      <th>Secretaria Municipal</th>\n",
       "      <td>390</td>\n",
       "    </tr>\n",
       "    <tr>\n",
       "      <th>Subprefeitura</th>\n",
       "      <td>87</td>\n",
       "    </tr>\n",
       "  </tbody>\n",
       "</table>\n",
       "</div>"
      ],
      "text/plain": [
       "                                Q201\n",
       "Q06                                 \n",
       "Autarquia, Fundação ou Empresa   285\n",
       "Secretaria Municipal             390\n",
       "Subprefeitura                     87"
      ]
     },
     "execution_count": 7,
     "metadata": {},
     "output_type": "execute_result"
    }
   ],
   "source": [
    "sub_df = dados[['Q201', 'Q06']].groupby('Q06').sum()\n",
    "sub_df"
   ]
  },
  {
   "cell_type": "markdown",
   "id": "7b4d35c3",
   "metadata": {},
   "source": [
    "### 4. Quantidade de órgãos que utilizam alguma metodologia para gerenciamento de projetos"
   ]
  },
  {
   "cell_type": "code",
   "execution_count": 8,
   "id": "de83ba34",
   "metadata": {},
   "outputs": [
    {
     "name": "stdout",
     "output_type": "stream",
     "text": [
      "Há um total de \u001b[91m9\u001b[00m órgãos que utilizam de metodologias para o gerenciamento de projetos\n"
     ]
    }
   ],
   "source": [
    "qtde = dados['Q713'].value_counts()['Sim']\n",
    "print(f'Há um total de \\033[91m{qtde}\\033[00m órgãos que utilizam de metodologias para o gerenciamento de projetos')\n"
   ]
  },
  {
   "cell_type": "markdown",
   "id": "5a2bdef7",
   "metadata": {},
   "source": [
    "### 5. Proporção de computadores que possuem mais de 5 anos e ainda são utilizados na Prefeitura de São Paulo"
   ]
  },
  {
   "cell_type": "code",
   "execution_count": 25,
   "id": "6a3adfdb",
   "metadata": {},
   "outputs": [],
   "source": [
    "dados.fillna(0, inplace=True)\n",
    "\n",
    "proprios = dados['Q1001[SQ001_SQ008]'].sum()\n",
    "locados = int(dados['Q1001[SQ001_SQ009]'].sum())\n",
    "proprios_5_anos = dados['Q1002[SQ001]'].sum()\n",
    "inserviveis = dados['Q604[SQ001]'].sum()\n",
    "\n",
    "total_em_uso = (locados + proprios) - inserviveis"
   ]
  },
  {
   "cell_type": "code",
   "execution_count": 10,
   "id": "84f673a8",
   "metadata": {},
   "outputs": [
    {
     "name": "stdout",
     "output_type": "stream",
     "text": [
      "Proporção de computadores em uso com mais de cinco anos: 55.9%\n"
     ]
    }
   ],
   "source": [
    "print('Proporção de computadores em uso com mais de cinco anos: {:.1f}%'.format(proprios_5_anos*100/total_em_uso))"
   ]
  },
  {
   "cell_type": "markdown",
   "id": "89af0119",
   "metadata": {},
   "source": [
    "### 6. Total de ativos de rede que estão sob gestão direta dos órgãos da Prefeitura de São Paulo, por tipo:"
   ]
  },
  {
   "cell_type": "code",
   "execution_count": 49,
   "id": "a958527f",
   "metadata": {},
   "outputs": [],
   "source": [
    "list_labels = [\n",
    "'Computador desktop', \n",
    "'Impressora sem scanner', \n",
    "'Impressora Multifuncional', \n",
    "'Notebook', \n",
    "'Tablet', \n",
    "'Celular Corporativo', \n",
    "'Projetor multimídia', \n",
    "'Scanner de produção', \n",
    "'Nobreak'\n",
    "]"
   ]
  },
  {
   "cell_type": "code",
   "execution_count": 57,
   "id": "2e2ebd1f",
   "metadata": {},
   "outputs": [
    {
     "data": {
      "text/plain": [
       "{'Computador desktop': 46525,\n",
       " 'Impressora sem scanner': 1912,\n",
       " 'Impressora Multifuncional': 3426,\n",
       " 'Notebook': 24608,\n",
       " 'Tablet': 327,\n",
       " 'Celular Corporativo': 6184,\n",
       " 'Projetor multimídia': 855,\n",
       " 'Scanner de produção': 214,\n",
       " 'Nobreak': 772}"
      ]
     },
     "execution_count": 57,
     "metadata": {},
     "output_type": "execute_result"
    }
   ],
   "source": [
    "list_columns, list_sums = [], []\n",
    "\n",
    "for column in dados.columns:\n",
    "    if column.startswith('Q1001'):\n",
    "        list_columns.append(column)\n",
    "\n",
    "for i, column in enumerate(list_columns):\n",
    "    if column.endswith('_SQ008]'):        \n",
    "        list_sums.append(int(dados[column].sum() + dados[list_columns[i+1]].sum()))\n",
    "        \n",
    "dict_totais_ativos_rede = dict(zip(list_labels, list_sums))\n",
    "dict_totais_ativos_rede"
   ]
  },
  {
   "cell_type": "code",
   "execution_count": null,
   "id": "6c8fcbe0",
   "metadata": {},
   "outputs": [],
   "source": []
  },
  {
   "cell_type": "code",
   "execution_count": 32,
   "id": "943d8bec",
   "metadata": {},
   "outputs": [],
   "source": []
  }
 ],
 "metadata": {
  "kernelspec": {
   "display_name": "Python 3 (ipykernel)",
   "language": "python",
   "name": "python3"
  },
  "language_info": {
   "codemirror_mode": {
    "name": "ipython",
    "version": 3
   },
   "file_extension": ".py",
   "mimetype": "text/x-python",
   "name": "python",
   "nbconvert_exporter": "python",
   "pygments_lexer": "ipython3",
   "version": "3.11.5"
  }
 },
 "nbformat": 4,
 "nbformat_minor": 5
}
