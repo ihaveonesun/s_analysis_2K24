{
 "cells": [
  {
   "cell_type": "markdown",
   "id": "64ba4b93",
   "metadata": {
    "slideshow": {
     "slide_type": "slide"
    }
   },
   "source": [
    "## <font color='green'>Desafio de análise de dados</font>\n",
    "Este notebook contém as respostas (e sua elaboração) acerca das questões apresentadas no desafio de processo seletivo da PMSP - Análise de dados (DEGOV - CGTIC - SMIT)\n",
    "\n",
    "* A base de dados é proveniente do Portal de Dados Abertos da Prefeitura de São Paulo, encontra-se no link: http://dados.prefeitura.sp.gov.br/pt_PT/dataset/diagnostico-de-tic;\n",
    "* Sendo utilizado, também, o dicionário de dados dos campos presentes nas tabelas;\n",
    "* A apresentação de slides se encontra no arquivo <i><font color='blue'>data_analysis.slides.html</font></i>. Ao ser executado, será aberto pelo seu navegador padrão.\n",
    "\n",
    "O projeto é de caráter introdutório. Visa responder, de maneira sucinta, as sete questões propostas. Contudo, esta base de dados ainda permite obter diversas outras análises e insights."
   ]
  },
  {
   "cell_type": "code",
   "execution_count": 1,
   "id": "16af84b4",
   "metadata": {
    "slideshow": {
     "slide_type": "skip"
    }
   },
   "outputs": [],
   "source": [
    "import pandas as pd\n",
    "import matplotlib.pyplot as plt\n",
    "import seaborn as sns"
   ]
  },
  {
   "cell_type": "code",
   "execution_count": 2,
   "id": "e406d2a7",
   "metadata": {
    "slideshow": {
     "slide_type": "skip"
    }
   },
   "outputs": [],
   "source": [
    "dados = pd.read_csv('diagnostico-tic-prefeitura-sp-2020.csv', sep=';', encoding='latin-1')"
   ]
  },
  {
   "cell_type": "code",
   "execution_count": 3,
   "id": "88cae342",
   "metadata": {
    "slideshow": {
     "slide_type": "skip"
    }
   },
   "outputs": [],
   "source": [
    "def color_string(string):\n",
    "    return f'\\033[94m{string}\\033[00m'\n",
    "\n",
    "def set_style_df(df):\n",
    "    return df.style.set_properties(**{'text-align': 'left'}).hide()\n",
    "\n",
    "def set_style_df2(df):\n",
    "    df = set_style_df(df)\n",
    "    return df.set_table_styles([dict(selector='th', props=[('text-align', 'left')])])"
   ]
  },
  {
   "cell_type": "markdown",
   "id": "85f5809f",
   "metadata": {
    "slideshow": {
     "slide_type": "slide"
    }
   },
   "source": [
    "## <font color='green'>Questão número 1</font>"
   ]
  },
  {
   "cell_type": "markdown",
   "id": "fe874074",
   "metadata": {
    "slideshow": {
     "slide_type": "fragment"
    }
   },
   "source": [
    "#### Quantos órgãos responderam à pesquisa, por categoria?"
   ]
  },
  {
   "cell_type": "code",
   "execution_count": 4,
   "id": "90bf34a7",
   "metadata": {
    "slideshow": {
     "slide_type": "fragment"
    }
   },
   "outputs": [
    {
     "data": {
      "text/html": [
       "<style type=\"text/css\">\n",
       "#T_c9dff th {\n",
       "  text-align: left;\n",
       "}\n",
       "#T_c9dff_row0_col0, #T_c9dff_row0_col1, #T_c9dff_row1_col0, #T_c9dff_row1_col1, #T_c9dff_row2_col0, #T_c9dff_row2_col1 {\n",
       "  text-align: left;\n",
       "}\n",
       "</style>\n",
       "<table id=\"T_c9dff\">\n",
       "  <thead>\n",
       "    <tr>\n",
       "      <th id=\"T_c9dff_level0_col0\" class=\"col_heading level0 col0\" >Órgão</th>\n",
       "      <th id=\"T_c9dff_level0_col1\" class=\"col_heading level0 col1\" >Qtde.</th>\n",
       "    </tr>\n",
       "  </thead>\n",
       "  <tbody>\n",
       "    <tr>\n",
       "      <td id=\"T_c9dff_row0_col0\" class=\"data row0 col0\" >Subprefeitura</td>\n",
       "      <td id=\"T_c9dff_row0_col1\" class=\"data row0 col1\" >32</td>\n",
       "    </tr>\n",
       "    <tr>\n",
       "      <td id=\"T_c9dff_row1_col0\" class=\"data row1 col0\" >Secretaria Municipal</td>\n",
       "      <td id=\"T_c9dff_row1_col1\" class=\"data row1 col1\" >24</td>\n",
       "    </tr>\n",
       "    <tr>\n",
       "      <td id=\"T_c9dff_row2_col0\" class=\"data row2 col0\" >Autarquia, Fundação ou Empresa</td>\n",
       "      <td id=\"T_c9dff_row2_col1\" class=\"data row2 col1\" >15</td>\n",
       "    </tr>\n",
       "  </tbody>\n",
       "</table>\n"
      ],
      "text/plain": [
       "<pandas.io.formats.style.Styler at 0x1ee4992ad10>"
      ]
     },
     "execution_count": 4,
     "metadata": {},
     "output_type": "execute_result"
    }
   ],
   "source": [
    "quantidades = dict(dados['Q06'].value_counts())\n",
    "set_style_df2(pd.DataFrame(quantidades.items(), columns=['Órgão', 'Qtde.']))"
   ]
  },
  {
   "cell_type": "markdown",
   "id": "7321e618",
   "metadata": {
    "slideshow": {
     "slide_type": "slide"
    }
   },
   "source": [
    "## <font color='green'>Questão número 2</font>"
   ]
  },
  {
   "cell_type": "markdown",
   "id": "02a843a2",
   "metadata": {
    "slideshow": {
     "slide_type": "fragment"
    }
   },
   "source": [
    "#### Quantas pessoas trabalharam de forma dedicada à TI na Prefeitura de São Paulo?"
   ]
  },
  {
   "cell_type": "code",
   "execution_count": 5,
   "id": "d4fa2c8a",
   "metadata": {
    "slideshow": {
     "slide_type": "fragment"
    }
   },
   "outputs": [
    {
     "name": "stdout",
     "output_type": "stream",
     "text": [
      "Um total de \u001b[94m762\u001b[00m pessoas.\n"
     ]
    }
   ],
   "source": [
    "print('Um total de {} pessoas.'.format(color_string(dados['Q201'].sum())))"
   ]
  },
  {
   "cell_type": "markdown",
   "id": "4386f9e4",
   "metadata": {
    "slideshow": {
     "slide_type": "slide"
    }
   },
   "source": [
    "## <font color='green'>Questão número 3</font>"
   ]
  },
  {
   "cell_type": "markdown",
   "id": "f4fe4854",
   "metadata": {
    "slideshow": {
     "slide_type": "fragment"
    }
   },
   "source": [
    "#### Qual proporção de pessoas trabalharam de forma dedicada à TI na Prefeitura de São Paulo por categoria?"
   ]
  },
  {
   "cell_type": "code",
   "execution_count": 6,
   "id": "ab0c45a9",
   "metadata": {
    "slideshow": {
     "slide_type": "fragment"
    }
   },
   "outputs": [
    {
     "data": {
      "image/png": "[encoded data removed]",
      "text/plain": [
       "<Figure size 640x480 with 1 Axes>"
      ]
     },
     "metadata": {},
     "output_type": "display_data"
    }
   ],
   "source": [
    "sub_df = pd.DataFrame(dados[['Q201', 'Q06']].groupby('Q06').sum())\n",
    "plt.pie(sub_df['Q201'], labels=sub_df.index, autopct = '%.1f%%',)\n",
    "# plt.title('Proporção de pessoas que trabalharam de forma dedicada à TI na PMSP', fontsize=14, pad=10)\n",
    "plt.show()"
   ]
  },
  {
   "cell_type": "markdown",
   "id": "1955e636",
   "metadata": {
    "slideshow": {
     "slide_type": "slide"
    }
   },
   "source": [
    "## <font color='green'>Questão número 4</font>"
   ]
  },
  {
   "cell_type": "markdown",
   "id": "7b4d35c3",
   "metadata": {
    "slideshow": {
     "slide_type": "fragment"
    }
   },
   "source": [
    "#### Quantos órgãos utilizam alguma metodologia para gerenciamento de projetos?"
   ]
  },
  {
   "cell_type": "code",
   "execution_count": 13,
   "id": "de83ba34",
   "metadata": {
    "slideshow": {
     "slide_type": "fragment"
    }
   },
   "outputs": [
    {
     "name": "stdout",
     "output_type": "stream",
     "text": [
      "Há um total de \u001b[94m9\u001b[00m órgãos.\n"
     ]
    }
   ],
   "source": [
    "qtde = color_string(dados['Q713'].value_counts()['Sim'])\n",
    "print(f'Há um total de {qtde} órgãos.')"
   ]
  },
  {
   "cell_type": "markdown",
   "id": "b84ccc2b",
   "metadata": {
    "slideshow": {
     "slide_type": "slide"
    }
   },
   "source": [
    "## <font color='green'>Questão número 5</font>"
   ]
  },
  {
   "cell_type": "markdown",
   "id": "5a2bdef7",
   "metadata": {
    "slideshow": {
     "slide_type": "fragment"
    }
   },
   "source": [
    "#### Considerando que todos os computadores locados possuem menos de 5 anos de uso, qual é a proporção de computadores que possuem mais de 5 anos e ainda são utilizados na Prefeitura de São Paulo?"
   ]
  },
  {
   "cell_type": "code",
   "execution_count": 8,
   "id": "6a3adfdb",
   "metadata": {
    "slideshow": {
     "slide_type": "fragment"
    }
   },
   "outputs": [
    {
     "name": "stdout",
     "output_type": "stream",
     "text": [
      "Proporção de computadores em uso com mais de cinco anos é de \u001b[94m55.9\u001b[00m%.\n"
     ]
    }
   ],
   "source": [
    "dados.fillna(0, inplace=True)\n",
    "\n",
    "proprios = dados['Q1001[SQ001_SQ008]'].sum()\n",
    "locados = int(dados['Q1001[SQ001_SQ009]'].sum())\n",
    "proprios_5 = dados['Q1002[SQ001]'].sum()\n",
    "inserviveis = dados['Q604[SQ001]'].sum()\n",
    "\n",
    "total = (locados + proprios) - inserviveis\n",
    "porcento = proprios_5*100/total\n",
    "\n",
    "print('Proporção de computadores em uso com mais de cinco anos é de {}%.'\\\n",
    "    .format(color_string(porcento.round(1))))"
   ]
  },
  {
   "cell_type": "markdown",
   "id": "981f7f96",
   "metadata": {
    "slideshow": {
     "slide_type": "slide"
    }
   },
   "source": [
    "## <font color='green'>Questão número 6</font>"
   ]
  },
  {
   "cell_type": "markdown",
   "id": "89af0119",
   "metadata": {
    "slideshow": {
     "slide_type": "fragment"
    }
   },
   "source": [
    "#### Qual o total de ativos de rede que estão sob gestão direta dos órgãos da Prefeitura de São Paulo, por tipo?"
   ]
  },
  {
   "cell_type": "code",
   "execution_count": 9,
   "id": "a958527f",
   "metadata": {
    "slideshow": {
     "slide_type": "skip"
    }
   },
   "outputs": [],
   "source": [
    "list_labels = [\n",
    "'Computador desktop', \n",
    "'Impressora sem scanner', \n",
    "'Impressora Multifuncional', \n",
    "'Notebook', \n",
    "'Tablet', \n",
    "'Celular Corporativo', \n",
    "'Projetor multimídia', \n",
    "'Scanner de produção', \n",
    "'Nobreak'\n",
    "]"
   ]
  },
  {
   "cell_type": "code",
   "execution_count": 10,
   "id": "2e2ebd1f",
   "metadata": {
    "slideshow": {
     "slide_type": "skip"
    }
   },
   "outputs": [],
   "source": [
    "list_columns, list_sums = [], []\n",
    "\n",
    "for column in dados.columns:\n",
    "    if column.startswith('Q1001'):\n",
    "        list_columns.append(column)\n",
    "\n",
    "for i, column in enumerate(list_columns):\n",
    "    if column.endswith('_SQ008]'):\n",
    "        list_sums.append(int(dados[column].sum() + dados[list_columns[i+1]].sum()))\n",
    "\n",
    "dict_totais_ativos_rede = dict(zip(list_labels, list_sums))"
   ]
  },
  {
   "cell_type": "code",
   "execution_count": 11,
   "id": "1815f33f",
   "metadata": {
    "slideshow": {
     "slide_type": "skip"
    }
   },
   "outputs": [
    {
     "data": {
      "text/html": [
       "<style type=\"text/css\">\n",
       "#T_7ad6f th {\n",
       "  text-align: left;\n",
       "}\n",
       "#T_7ad6f_row0_col0, #T_7ad6f_row0_col1, #T_7ad6f_row1_col0, #T_7ad6f_row1_col1, #T_7ad6f_row2_col0, #T_7ad6f_row2_col1, #T_7ad6f_row3_col0, #T_7ad6f_row3_col1, #T_7ad6f_row4_col0, #T_7ad6f_row4_col1, #T_7ad6f_row5_col0, #T_7ad6f_row5_col1, #T_7ad6f_row6_col0, #T_7ad6f_row6_col1, #T_7ad6f_row7_col0, #T_7ad6f_row7_col1, #T_7ad6f_row8_col0, #T_7ad6f_row8_col1 {\n",
       "  text-align: left;\n",
       "}\n",
       "</style>\n",
       "<table id=\"T_7ad6f\">\n",
       "  <thead>\n",
       "    <tr>\n",
       "      <th id=\"T_7ad6f_level0_col0\" class=\"col_heading level0 col0\" >Equipamento</th>\n",
       "      <th id=\"T_7ad6f_level0_col1\" class=\"col_heading level0 col1\" >Qtde.</th>\n",
       "    </tr>\n",
       "  </thead>\n",
       "  <tbody>\n",
       "    <tr>\n",
       "      <td id=\"T_7ad6f_row0_col0\" class=\"data row0 col0\" >Computador desktop</td>\n",
       "      <td id=\"T_7ad6f_row0_col1\" class=\"data row0 col1\" >46525</td>\n",
       "    </tr>\n",
       "    <tr>\n",
       "      <td id=\"T_7ad6f_row1_col0\" class=\"data row1 col0\" >Notebook</td>\n",
       "      <td id=\"T_7ad6f_row1_col1\" class=\"data row1 col1\" >24608</td>\n",
       "    </tr>\n",
       "    <tr>\n",
       "      <td id=\"T_7ad6f_row2_col0\" class=\"data row2 col0\" >Celular Corporativo</td>\n",
       "      <td id=\"T_7ad6f_row2_col1\" class=\"data row2 col1\" >6184</td>\n",
       "    </tr>\n",
       "    <tr>\n",
       "      <td id=\"T_7ad6f_row3_col0\" class=\"data row3 col0\" >Impressora Multifuncional</td>\n",
       "      <td id=\"T_7ad6f_row3_col1\" class=\"data row3 col1\" >3426</td>\n",
       "    </tr>\n",
       "    <tr>\n",
       "      <td id=\"T_7ad6f_row4_col0\" class=\"data row4 col0\" >Impressora sem scanner</td>\n",
       "      <td id=\"T_7ad6f_row4_col1\" class=\"data row4 col1\" >1912</td>\n",
       "    </tr>\n",
       "    <tr>\n",
       "      <td id=\"T_7ad6f_row5_col0\" class=\"data row5 col0\" >Projetor multimídia</td>\n",
       "      <td id=\"T_7ad6f_row5_col1\" class=\"data row5 col1\" >855</td>\n",
       "    </tr>\n",
       "    <tr>\n",
       "      <td id=\"T_7ad6f_row6_col0\" class=\"data row6 col0\" >Nobreak</td>\n",
       "      <td id=\"T_7ad6f_row6_col1\" class=\"data row6 col1\" >772</td>\n",
       "    </tr>\n",
       "    <tr>\n",
       "      <td id=\"T_7ad6f_row7_col0\" class=\"data row7 col0\" >Tablet</td>\n",
       "      <td id=\"T_7ad6f_row7_col1\" class=\"data row7 col1\" >327</td>\n",
       "    </tr>\n",
       "    <tr>\n",
       "      <td id=\"T_7ad6f_row8_col0\" class=\"data row8 col0\" >Scanner de produção</td>\n",
       "      <td id=\"T_7ad6f_row8_col1\" class=\"data row8 col1\" >214</td>\n",
       "    </tr>\n",
       "  </tbody>\n",
       "</table>\n"
      ],
      "text/plain": [
       "<pandas.io.formats.style.Styler at 0x1ee49a4c890>"
      ]
     },
     "execution_count": 11,
     "metadata": {},
     "output_type": "execute_result"
    }
   ],
   "source": [
    "ativos_rede_df = pd.DataFrame(dict_totais_ativos_rede.items(), columns=['Equipamento', 'Qtde.'])\n",
    "ativos_rede_df.sort_values(by='Qtde.', ascending=False, inplace=True)\n",
    "set_style_df2(ativos_rede_df)"
   ]
  },
  {
   "cell_type": "code",
   "execution_count": 12,
   "id": "b83fefa0",
   "metadata": {
    "slideshow": {
     "slide_type": "fragment"
    }
   },
   "outputs": [
    {
     "data": {
      "image/png": "[encoded data removed]",
      "text/plain": [
       "<Figure size 800x400 with 1 Axes>"
      ]
     },
     "metadata": {},
     "output_type": "display_data"
    }
   ],
   "source": [
    "sns.set_theme(style=\"whitegrid\")\n",
    "\n",
    "plt.figure(figsize=(8, 4))\n",
    "ax = sns.barplot(x=ativos_rede_df['Qtde.'], y=ativos_rede_df.Equipamento)\n",
    "ax.set_xlabel('Quantidade', fontsize=12, labelpad=5)\n",
    "ax.set_ylabel(None)\n",
    "# ax.set_title('Ativos de rede que estão sob gestão direta da PMSP', fontsize=17, fontweight='bold', pad=30)\n",
    "for i in ax.containers:\n",
    "    ax.bar_label(i)\n",
    "plt.show()"
   ]
  },
  {
   "cell_type": "markdown",
   "id": "f0e6b978",
   "metadata": {
    "slideshow": {
     "slide_type": "slide"
    }
   },
   "source": [
    "## <font color='green'>Questão número 7</font>"
   ]
  },
  {
   "attachments": {},
   "cell_type": "markdown",
   "id": "330fd876",
   "metadata": {
    "slideshow": {
     "slide_type": "fragment"
    }
   },
   "source": [
    "#### Considerando que os dados sobre quantidade de pessoas que trabalham dedicada à Tecnologia da Informação no ano de 2019 apresenta a seguinte distribuição no ano de 2019, complete a frase que aparece abaixo dos histogramas:\n",
    "\n",
    "<img src='https://raw.githubusercontent.com/ihaveonesun/s_analysis_2K24/main/img_q7.png' width='70%'>"
   ]
  },
  {
   "cell_type": "markdown",
   "id": "215bff4c",
   "metadata": {
    "slideshow": {
     "slide_type": "fragment"
    }
   },
   "source": [
    "<i> \"De acordo com o Diagnóstico de 2019, metade dos órgãos setoriais da prefeitura possuem, no máximo, <font color='blue'>TRÊS</font> pessoas trabalhando de forma dedicada à área de TI.\"</i>"
   ]
  },
  {
   "cell_type": "markdown",
   "id": "35284fe2",
   "metadata": {
    "slideshow": {
     "slide_type": "slide"
    }
   },
   "source": [
    "## <font color='green'>Fim da apresentação</font>"
   ]
  },
  {
   "cell_type": "markdown",
   "id": "7ce5a622",
   "metadata": {
    "slideshow": {
     "slide_type": "fragment"
    }
   },
   "source": [
    "Fontes consultadas:\n",
    "\n",
    "* https://www.geeksforgeeks.org/align-columns-to-left-in-pandas-python/\n",
    "* https://stackoverflow.com/questions/13148429/how-to-change-the-order-of-dataframe-columns    \n",
    "* https://www.blog.pythonlibrary.org/2018/09/25/creating-presentations-with-jupyter-notebook/    "
   ]
  }
 ],
 "metadata": {
  "celltoolbar": "Slideshow",
  "kernelspec": {
   "display_name": "Python 3 (ipykernel)",
   "language": "python",
   "name": "python3"
  },
  "language_info": {
   "codemirror_mode": {
    "name": "ipython",
    "version": 3
   },
   "file_extension": ".py",
   "mimetype": "text/x-python",
   "name": "python",
   "nbconvert_exporter": "python",
   "pygments_lexer": "ipython3",
   "version": "3.11.5"
  }
 },
 "nbformat": 4,
 "nbformat_minor": 5
}
